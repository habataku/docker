{
  "cells": [
    {
      "cell_type": "markdown",
      "metadata": {
        "id": "view-in-github",
        "colab_type": "text"
      },
      "source": [
        "<a href=\"https://colab.research.google.com/github/habataku/docker/blob/main/Studyplus_(1).ipynb\" target=\"_parent\"><img src=\"https://colab.research.google.com/assets/colab-badge.svg\" alt=\"Open In Colab\"/></a>"
      ]
    },
    {
      "cell_type": "code",
      "execution_count": null,
      "metadata": {
        "id": "_EPJJ3Uj0Wzf"
      },
      "outputs": [],
      "source": [
        "#@title 0x0ログイン {display-mode:\"form\"}\n",
        "import requests\n",
        "import json\n",
        "import re\n",
        "import datetime\n",
        "import pprint\n",
        "from IPython.display import display,Markdown\n",
        "\n",
        "class IStudyPlusUser:\n",
        "  def __init__(self,json):\n",
        "    self.data=json\n",
        "\n",
        "  def followee(self):\n",
        "    json=requests.get(\"https://api.studyplus.jp/2/users?followee=\"+self.data[\"username\"]+\"&page=1&per_page=100&include_recent_record_seconds=t\").json()\n",
        "    followees=json[\"users\"]\n",
        "    if json[\"page\"]<json[\"total_page\"]:\n",
        "      for i in range(2,json[\"total_page\"]+1):\n",
        "        followees += requests.get(\"https://api.studyplus.jp/2/users?followee=\"+self.data[\"username\"]+\"&page=\"+str(i)+\"&per_page=100&include_recent_record_seconds=t\").json()[\"users\"]\n",
        "    return followees\n",
        "\n",
        "  def follower(self):\n",
        "    json=requests.get(\"https://api.studyplus.jp/2/users?follower=\"+self.data[\"username\"]+\"&page=1&per_page=100&include_recent_record_seconds=t\").json()\n",
        "    followers=json[\"users\"]\n",
        "    if json[\"page\"]<json[\"total_page\"]:\n",
        "      for i in range(2,json[\"total_page\"]+1):\n",
        "        followers += requests.get(\"https://api.studyplus.jp/2/users?follower=\"+self.data[\"username\"]+\"&page=\"+str(i)+\"&per_page=100&include_recent_record_seconds=t\").json()[\"users\"]\n",
        "    return followers\n",
        "\n",
        "class IStudyPlus:\n",
        "  def __init__(self):\n",
        "    self.api_root=\"https://api.studyplus.jp/2\"\n",
        "    self.cookies={}\n",
        "    self.headers = {}\n",
        "\n",
        "  def login(self,username,password):\n",
        "    data={\n",
        "    \"consumer_key\": \"QW2GdV9R7gUZGjndVgIgPt6SPwf7raw6\",\n",
        "    \"consumer_secret\": \"U7ZRrKA8BuEBKkgc6c5GteW3hGUyRsRMaPsgf7DgtZH9yjrwZEdPrNIDHYkSqaPM\",\n",
        "    \"username\": username,\n",
        "    \"password\": password}\n",
        "    result=requests.post(self.api_root+\"/client_auth\",data=json.dumps(data),cookies=self.cookies,headers=self.headers).json()\n",
        "    self.cookies={}\n",
        "    self.username=result[\"username\"]\n",
        "    self.access_token=result[\"access_token\"]\n",
        "    self.headers[\"Authorization\"]=\"OAuth \"+self.access_token\n",
        "    return self\n",
        "\n",
        "  def __del__(self):\n",
        "    if self.username:\n",
        "      requests.post(self.api_root+\"/logout\",cookies=seｌf.cookies,headers=self.headers).json()\n",
        "      self.username=\"\"\n",
        "      self.access_token=\"\"\n",
        "      self.headers={}\n",
        "\n",
        "\n",
        "  def me(self):\n",
        "    if not self.username:\n",
        "      return\n",
        "    result=requests.get(self.api_root+\"/me\",cookies=self.cookies,headers=self.headers)\n",
        "    return IStudyPlusUser(result.json())\n",
        "\n",
        "メールアドレス=\"habatakutori.fbi@gmail.com\"\n",
        "パスワード=\"gbtswspn1\"\n",
        "sp=IStudyPlus().login(メールアドレス,パスワード)\n",
        "me=sp.me()"
      ]
    },
    {
      "cell_type": "code",
      "source": [],
      "metadata": {
        "id": "LgmgYVx8H9uh"
      },
      "execution_count": null,
      "outputs": []
    },
    {
      "cell_type": "code",
      "execution_count": null,
      "metadata": {
        "id": "rDSLYN5jMuyP"
      },
      "outputs": [],
      "source": [
        "#@title ワイスピログイン {display-mode:\"form\"}\n",
        "import requests\n",
        "import json\n",
        "import re\n",
        "import datetime\n",
        "import pprint\n",
        "from IPython.display import display,Markdown\n",
        "\n",
        "class IStudyPlusUser:\n",
        "  def __init__(self,json):\n",
        "    self.data=json\n",
        "\n",
        "  def followee(self):\n",
        "    json=requests.get(\"https://api.studyplus.jp/2/users?followee=\"+self.data[\"username\"]+\"&page=1&per_page=100&include_recent_record_seconds=t\").json()\n",
        "    followees=json[\"users\"]\n",
        "    if json[\"page\"]<json[\"total_page\"]:\n",
        "      for i in range(2,json[\"total_page\"]+1):\n",
        "        followees += requests.get(\"https://api.studyplus.jp/2/users?followee=\"+self.data[\"username\"]+\"&page=\"+str(i)+\"&per_page=100&include_recent_record_seconds=t\").json()[\"users\"]\n",
        "    return followees\n",
        "\n",
        "  def follower(self):\n",
        "    json=requests.get(\"https://api.studyplus.jp/2/users?follower=\"+self.data[\"username\"]+\"&page=1&per_page=100&include_recent_record_seconds=t\").json()\n",
        "    followers=json[\"users\"]\n",
        "    if json[\"page\"]<json[\"total_page\"]:\n",
        "      for i in range(2,json[\"total_page\"]+1):\n",
        "        followers += requests.get(\"https://api.studyplus.jp/2/users?follower=\"+self.data[\"username\"]+\"&page=\"+str(i)+\"&per_page=100&include_recent_record_seconds=t\").json()[\"users\"]\n",
        "    return followers\n",
        "\n",
        "class IStudyPlus:\n",
        "  def __init__(self):\n",
        "    self.api_root=\"https://api.studyplus.jp/2\"\n",
        "    self.cookies={}\n",
        "    self.headers = {}\n",
        "\n",
        "  def login(self,username,password):\n",
        "    data={\n",
        "    \"consumer_key\": \"QW2GdV9R7gUZGjndVgIgPt6SPwf7raw6\",\n",
        "    \"consumer_secret\": \"U7ZRrKA8BuEBKkgc6c5GteW3hGUyRsRMaPsgf7DgtZH9yjrwZEdPrNIDHYkSqaPM\",\n",
        "    \"username\": username,\n",
        "    \"password\": password}\n",
        "    result=requests.post(self.api_root+\"/client_auth\",data=json.dumps(data),cookies=self.cookies,headers=self.headers).json()\n",
        "    self.cookies={}\n",
        "    self.username=result[\"username\"]\n",
        "    self.access_token=result[\"access_token\"]\n",
        "    self.headers[\"Authorization\"]=\"OAuth \"+self.access_token\n",
        "    return self\n",
        "\n",
        "  def __del__(self):\n",
        "    if self.username:\n",
        "      requests.post(self.api_root+\"/logout\",cookies=seｌf.cookies,headers=self.headers).json()\n",
        "      self.username=\"\"\n",
        "      self.access_token=\"\"\n",
        "      self.headers={}\n",
        "\n",
        "\n",
        "  def me(self):\n",
        "    if not self.username:\n",
        "      return\n",
        "    result=requests.get(self.api_root+\"/me\",cookies=self.cookies,headers=self.headers)\n",
        "    return IStudyPlusUser(result.json())\n",
        "\n",
        "メールアドレス=\"studyplus0972@fukurou.ch\"\n",
        "パスワード=\"gbtswspn1\"\n",
        "sp=IStudyPlus().login(メールアドレス,パスワード)\n",
        "me=sp.me()"
      ]
    },
    {
      "cell_type": "markdown",
      "metadata": {
        "id": "1v4FFwjifv_9"
      },
      "source": [
        "# **自動いいね**"
      ]
    },
    {
      "cell_type": "code",
      "execution_count": null,
      "metadata": {
        "cellView": "form",
        "id": "CBe-JCF5Ufa5"
      },
      "outputs": [],
      "source": [
        "# @title ユーザーリストの人に2ついいね\n",
        "for val in userlist:\n",
        "  if val[\"nickname\"]==me.data[\"nickname\"]:\n",
        "    continue\n",
        "  json=requests.get(\"https://api.studyplus.jp/2/timeline_feeds/user/\"+val[\"username\"],cookies=sp.cookies,headers=sp.headers).json()\n",
        "  count=0\n",
        "  for record in json[\"feeds\"]:\n",
        "    if count==4:\n",
        "      break\n",
        "\n",
        "    try:\n",
        "      record.pop(\"feed_type\")\n",
        "      body=list(record.values())[0]\n",
        "      count+=1\n",
        "      if body[\"if_you_like\"]:\n",
        "        continue\n",
        "      requests.post(\"https://api.studyplus.jp/2/timeline_events/\"+str(body[\"event_id\"])+\"/likes/like\",cookies=sp.cookies,headers=sp.headers).json()\n",
        "    except:\n",
        "      continue"
      ]
    },
    {
      "cell_type": "code",
      "execution_count": null,
      "metadata": {
        "colab": {
          "background_save": true,
          "base_uri": "https://localhost:8080/"
        },
        "collapsed": true,
        "id": "siEAw7JBzGK8",
        "outputId": "9127bca6-1791-426e-cb09-3f29fe406e81"
      },
      "outputs": [
        {
          "name": "stderr",
          "output_type": "stream",
          "text": [
            "Exception ignored in: <function IStudyPlus.__del__ at 0x798daa2b5240>\n",
            "Traceback (most recent call last):\n",
            "  File \"<ipython-input-1-87698956b557>\", line 50, in __del__\n",
            "  File \"/usr/local/lib/python3.10/dist-packages/requests/models.py\", line 978, in json\n",
            "requests.exceptions.JSONDecodeError: Expecting value: line 1 column 1 (char 0)\n"
          ]
        },
        {
          "name": "stdout",
          "output_type": "stream",
          "text": [
            "721\n"
          ]
        }
      ],
      "source": [
        "# @title 自分のタイムラインに個数いいね {display-mode:\"form\"}\n",
        "import os\n",
        "種類=\"フォロー中\"#@param [\"フォロー中\",\"定期テスト 成績アップ\"]\n",
        "if 種類==\"フォロー中\":\n",
        "  timeline_url=\"followee\"\n",
        "elif 種類==\"定期テスト 成績アップ\":\n",
        "  timeline_url=\"study_goal/test\"\n",
        "\n",
        "個数=721 #@param {type:\"number\"}\n",
        "count=0\n",
        "try:\n",
        "  while count<=個数:\n",
        "    json=requests.get(\"https://api.studyplus.jp/2/timeline_feeds/\"+timeline_url,cookies=sp.cookies,headers=sp.headers).json()\n",
        "    for i in range(0,6):\n",
        "      for record in json[\"feeds\"]:\n",
        "        if count>=個数:\n",
        "          raise KeyboardInterrupt\n",
        "        try:\n",
        "          record.pop(\"feed_type\")\n",
        "          requests.post(\"https://api.studyplus.jp/2/timeline_events/\"+str(list(record.values())[0][\"event_id\"])+\"/likes/like\",cookies=sp.cookies,headers=sp.headers).json()\n",
        "          count+=1\n",
        "        except TypeError:\n",
        "          continue\n",
        "      json=requests.get(\"https://api.studyplus.jp/2/timeline_feeds/\"+timeline_url+\"?until=\"+json[\"next\"],cookies=sp.cookies,headers=sp.headers).json()\n",
        "except KeyboardInterrupt:\n",
        "  print(count)"
      ]
    },
    {
      "cell_type": "code",
      "execution_count": null,
      "metadata": {
        "cellView": "form",
        "id": "bZvcuoLEl_Y_"
      },
      "outputs": [],
      "source": [
        "w# @title 自分のタイムラインにずっといいね {display-mode:\"form\"}\n",
        "from tqdm import tqdm\n",
        "import sys\n",
        "種類=\"定期テスト 成績アップ\"#@param [\"フォロー中\",\"定期テスト 成績アップ\"]\n",
        "if 種類==\"フォロー中\":\n",
        "  timeline_url=\"followee\"\n",
        "elif 種類==\"定期テスト 成績アップ\":\n",
        "  timeline_url=\"study_goal/test\"\n",
        "count=0\n",
        "try:\n",
        "  while True:\n",
        "    json=requests.get(\"https://api.studyplus.jp/2/timeline_feeds/\"+timeline_url,cookies=sp.cookies,headers=sp.headers).json()\n",
        "    #for i in range(0,3):\n",
        "    for record in tqdm(json[\"feeds\"],leave=False):\n",
        "      try:\n",
        "        record.pop(\"feed_type\")\n",
        "        requests.post(\"https://api.studyplus.jp/2/timeline_events/\"+str(list(record.values())[0][\"event_id\"])+\"/likes/like\",cookies=sp.cookies,headers=sp.headers).json()\n",
        "        count+=1\n",
        "      except TypeError:\n",
        "        continue\n",
        "      #json=requests.get(\"https://api.studyplus.jp/2/timeline_feeds/\"+timeline_url+\"?until=\"+json[\"next\"],cookies=sp.cookies,headers=sp.headers).json()\n",
        "except KeyboardInterrupt:\n",
        "  print(count)"
      ]
    },
    {
      "cell_type": "code",
      "execution_count": null,
      "metadata": {
        "cellView": "form",
        "colab": {
          "background_save": true
        },
        "id": "MiAPiau6bPNa"
      },
      "outputs": [],
      "source": [
        "# @title 人を検索して全いいね\n",
        "検索元=\"\\u30D5\\u30A9\\u30ED\\u30EF\\u30FC\"#@param [\"フォロワー\",\"フォロー中\",\"id指定\"]\n",
        "名前またはid=\"誠\"#@param {type:\"string\"}\n",
        "\n",
        "if 検索元==\"フォロワー\":\n",
        "  user=next(filter(lambda x:x[\"nickname\"]==名前またはid or x[\"username\"]==名前またはid,me.follower()),None)\n",
        "  json=requests.get(\"https://api.studyplus.jp/2/timeline_feeds/user/\"+user[\"username\"],cookies=sp.cookies,headers=sp.headers).json()\n",
        "elif 検索元==\"フォロー中\":\n",
        "  user=next(filter(lambda x:x[\"nickname\"]==名前またはid or x[\"username\"]==名前またはid,me.followee()),None)\n",
        "  json=requests.get(\"https://api.studyplus.jp/2/timeline_feeds/user/\"+user[\"username\"],cookies=sp.cookies,headers=sp.headers).json()\n",
        "else:\n",
        "  json=requests.get(\"https://api.studyplus.jp/2/timeline_feeds/user/\"+名前またはid,cookies=sp.cookies,headers=sp.headers).json()\n",
        "\n",
        "for i in range(0,2000):\n",
        "  count=0\n",
        "  for record in json[\"feeds\"]:\n",
        "    try:\n",
        "      record.pop(\"feed_type\")\n",
        "      body=list(record.values())[0]\n",
        "      if body[\"if_you_like\"]:\n",
        "        count+=1\n",
        "        continue\n",
        "      requests.post(\"https://api.studyplus.jp/2/timeline_events/\"+str(body[\"event_id\"])+\"/likes/like\",cookies=sp.cookies,headers=sp.headers).json()\n",
        "    except:\n",
        "      continue\n",
        "  if count==len(json[\"feeds\"]) and i>100:\n",
        "    break\n",
        "  json=requests.get(\"https://api.studyplus.jp/2/timeline_feeds/user/\"+user[\"username\"]+\"?until=\"+json[\"next\"],cookies=sp.cookies,headers=sp.headers).json()"
      ]
    },
    {
      "cell_type": "code",
      "execution_count": null,
      "metadata": {
        "id": "3IvAk_RuY_1i"
      },
      "outputs": [],
      "source": [
        "# @title 自分のタイムラインに指定した個数いいね {display-mode:\"form\"}\n",
        "種類=\"\\u5B9A\\u671F\\u30C6\\u30B9\\u30C8 \\u6210\\u7E3E\\u30A2\\u30C3\\u30D7\"#@param [\"フォロー中\",\"定期テスト 成績アップ\"]\n",
        "if 種類==\"フォロー中\":\n",
        "  timeline_url=\"followee\"\n",
        "elif 種類==\"定期テスト 成績アップ\":\n",
        "  timeline_url=\"study_goal/test\"\n",
        "json=requests.get(\"https://api.studyplus.jp/2/timeline_feeds/\"+timeline_url,cookies=sp.cookies,headers=sp.headers).json()\n",
        "個数_30個単位=240#@param {type:\"number\"}\n",
        "raise SystemExit\n",
        "for i in range(0,個数_30個単位//30):\n",
        "  for record in json[\"feeds\"]:\n",
        "    try:\n",
        "      record.pop(\"feed_type\")\n",
        "      requests.post(\"https://api.studyplus.jp/2/timeline_events/\"+str(list(record.values())[0][\"event_id\"])+\"/likes/like\",cookies=sp.cookies,headers=sp.headers).json()\n",
        "    except:\n",
        "      continue\n",
        "  json=requests.get(\"https://api.studyplus.jp/2/timeline_feeds/\"+timeline_url+\"?until=\"+json[\"next\"],cookies=sp.cookies,headers=sp.headers).json()"
      ]
    },
    {
      "cell_type": "code",
      "execution_count": null,
      "metadata": {
        "id": "L-jjFMAQfO6U"
      },
      "outputs": [],
      "source": [
        "#@title 自分の達成目標id一覧取得 {display-mode:\"form\"}\n",
        "md=\"|達成目標|id|\\n|--|--|\\n\"\n",
        "for val in me.data['study_goals']:\n",
        "  md+=f\"|{val['label']}|{val['key']}|\\n\"\n",
        "display(Markdown(md))"
      ]
    },
    {
      "cell_type": "code",
      "execution_count": null,
      "metadata": {
        "colab": {
          "background_save": true
        },
        "id": "L1-KCYtlmGqs"
      },
      "outputs": [],
      "source": [
        "#@title 達成目標idから指定した個数いいね {display-mode:\"form\"}\n",
        "達成目標id=\"college-744\"# @param {type:\"string\"}\n",
        "json=requests.get(\"https://api.studyplus.jp/2/timeline_feeds/study_goal/\"+達成目標id,cookies=sp.cookies,headers=sp.headers).json()\n",
        "個数_30個単位=1800#@param {type:\"number\"}\n",
        "\n",
        "for i in range(0,個数_30個単位//30):\n",
        "  for record in json[\"feeds\"]:\n",
        "    try:\n",
        "      record.pop(\"feed_type\")\n",
        "      requests.post(\"https://api.studyplus.jp/2/timeline_events/\"+str(list(record.values())[0][\"event_id\"])+\"/likes/like\",cookies=sp.cookies,headers=sp.headers).json()\n",
        "    except:\n",
        "      continue\n",
        "  json=requests.get(\"https://api.studyplus.jp/2/timeline_feeds/study_goal/\"+達成目標id+\"?until=\"+json[\"next\"],cookies=sp.cookies,headers=sp.headers).json()"
      ]
    },
    {
      "cell_type": "code",
      "execution_count": null,
      "metadata": {
        "colab": {
          "base_uri": "https://localhost:8080/"
        },
        "id": "Njh9IJ5TEfRL",
        "outputId": "0f69505a-0817-4fc7-b67f-159dfec71a2a"
      },
      "outputs": [
        {
          "name": "stdout",
          "output_type": "stream",
          "text": [
            "送信できません\n"
          ]
        }
      ],
      "source": [
        "#@title 指定した人にDM　{display-mode:\"form\"}\n",
        "取得する人=\"\\u30D5\\u30A9\\u30ED\\u30EF\\u30FC\"#@param [\"フォロワー\",\"フォロー中\"]\n",
        "ユーザー名=\"ふぉれすと\"#@param {type:\"string\"}\n",
        "メッセージ=\"なんですか？\"#@param {type:\"string\"}\n",
        "\n",
        "if 取得する人==\"フォロワー\":\n",
        "  user=next(filter(lambda x:x[\"nickname\"]==ユーザー名,me.follower()),None)\n",
        "elif 取得する人==\"フォロー中\":\n",
        "  user=next(filter(lambda x:x[\"nickname\"]==ユーザー名,me.followee()),None)\n",
        "if user:\n",
        "  data={\n",
        "      \"recipient\":user[\"username\"],\n",
        "      \"content\":メッセージ\n",
        "    }\n",
        "  result=requests.post(\"https://api.studyplus.jp/2/messages\",data=json.dumps(data),headers=sp.headers)\n",
        "  if not result.ok:\n",
        "    print('送信できません')\n",
        "else:\n",
        "  print('ユーザーが存在しません')"
      ]
    },
    {
      "cell_type": "code",
      "execution_count": null,
      "metadata": {
        "cellView": "form",
        "id": "_u0pcI7cCaIn"
      },
      "outputs": [],
      "source": [
        "# @title 没\n",
        "# import requests\n",
        "# from dataclasses import dataclass,fields\n",
        "# from typing import Optional\n",
        "\n",
        "# @dataclass\n",
        "# class IStudyPlusUserProfile:\n",
        "#   user_id: int\n",
        "#   username: str\n",
        "#   user_image_url: str\n",
        "#   nickname: str\n",
        "#   badge_type: str\n",
        "#   user_organizations: list\n",
        "#   disable_reply: bool\n",
        "#   allow_send_image_message: bool\n",
        "#   disable_profile_view: bool\n",
        "#   goal: str\n",
        "#   user_relationship_id: int\n",
        "#   user_relationship_status: str\n",
        "#   target_user_relationship_id: int\n",
        "#   target_user_relationship_status: str\n",
        "#   location_code: int\n",
        "#   location: str\n",
        "#   job_code: int\n",
        "#   job: str\n",
        "#   job_grade: int\n",
        "#   follower_policy: str\n",
        "#   feed_visibility: str\n",
        "#   desired_departments: list\n",
        "#   mute: bool\n",
        "#   fav: bool\n",
        "#   feed_is_visible: bool\n",
        "#   study_goals: list\n",
        "\n",
        "#   def followee(self):\n",
        "#     json=requests.get(\"https://api.studyplus.jp/2/users?followee=\"+self.username+\"&page=1&per_page=100&include_recent_record_seconds=t\").json()\n",
        "#     followees=json[\"users\"]\n",
        "#     if json[\"page\"]<json[\"total_page\"]:\n",
        "#       for i in range(2,json[\"total_page\"]+1):\n",
        "#         followees |= requests.get(self.api_root+\"/users?followee=\"+self.username+\"&page=\"+i+\"&per_page=100&include_recent_record_seconds=t\").json()\n",
        "#     followeeprofiles=[]\n",
        "#     print(followees)\n",
        "#     for follower in followees:\n",
        "#       for field in fields(IStudyPlusRelateUser):\n",
        "#         if field.name not in follower:\n",
        "#           follower[field.name]=\"\"\n",
        "#       followeeprofiles.append(IStudyPlusRelateUser(**follower))\n",
        "#     return followeeprofiles\n",
        "\n",
        "# @dataclass\n",
        "# class IStudyPlusUser(IStudyPlusUserProfile):\n",
        "#   follow_count: int\n",
        "#   follower_count: int\n",
        "#   follow_requesting_count: int\n",
        "#   biography: str\n",
        "#   tags: list\n",
        "#   educational_background: dict\n",
        "#   material_count: int\n",
        "#   premium: bool\n",
        "#   book_user: bool\n",
        "#   use_drill: bool\n",
        "#   studyplus_confirmed: bool\n",
        "#   studylog_confirmed: bool\n",
        "#   record_count: int\n",
        "#   record_hours_this_month: int\n",
        "#   record_hours_last_month: int\n",
        "#   total_record_hours: int\n",
        "#   has_study_challenge: bool\n",
        "#   sex: str\n",
        "#   birthyear: int\n",
        "#   birthmonth: int\n",
        "#   birthdate: int\n",
        "#   occupation: str\n",
        "#   study_achievements: list\n",
        "#   examination_count: int\n",
        "#   email_is_confirmed: bool\n",
        "#   learning_material_review_count: int\n",
        "#   learning_material_review_like_count: int\n",
        "#   desired_department_visibility: str\n",
        "#   sex_visibility: str\n",
        "#   birthyear_visibility: str\n",
        "#   birthdate_visibility: str\n",
        "#   location_visibility: str\n",
        "#   job_visibility: str\n",
        "#   occupation_visibility: str\n",
        "#   study_goals_visibility: str\n",
        "#   limited_message: bool\n",
        "\n",
        "# @dataclass\n",
        "# class IStudyPlusRelateUser(IStudyPlusUserProfile):\n",
        "#   recent_record_seconds:int"
      ]
    },
    {
      "cell_type": "code",
      "execution_count": null,
      "metadata": {
        "id": "qk44lkzPrfoa"
      },
      "outputs": [],
      "source": [
        "import json\n",
        "with open('data.json','w') as f:\n",
        "  json.dump(records,f,indent=2)"
      ]
    },
    {
      "cell_type": "code",
      "execution_count": null,
      "metadata": {
        "id": "xI1PIwtlp0Z4"
      },
      "outputs": [],
      "source": [
        "json=requests.get(\"https://api.studyplus.jp/2/timeline_feeds/learning_material/9ae3e951-807d-482e-aa85-3ee9c20093a1\",cookies=sp.cookies,headers=sp.headers).json()\n",
        "records=[]\n",
        "for i in range(0,50):\n",
        "  records+=json[\"feeds\"]\n",
        "  json=requests.get(\"https://api.studyplus.jp/2/timeline_feeds/learning_material/9ae3e951-807d-482e-aa85-3ee9c20093a1?until=\"+json[\"next\"],cookies=sp.cookies,headers=sp.headers).json()"
      ]
    },
    {
      "cell_type": "markdown",
      "metadata": {
        "id": "Eo1wdv6RgGU9"
      },
      "source": [
        "# **ユーザー情報**"
      ]
    },
    {
      "cell_type": "code",
      "execution_count": null,
      "metadata": {
        "colab": {
          "base_uri": "https://localhost:8080/",
          "height": 1000
        },
        "id": "7b-vgMLCDKkB",
        "outputId": "0b218d44-7b23-47bc-f406-78358649aea2"
      },
      "outputs": [
        {
          "output_type": "display_data",
          "data": {
            "text/plain": [
              "<IPython.core.display.Markdown object>"
            ],
            "text/markdown": "|名前|id|\n|--|--|\n|みなみ|cb24829cc4eb4d05a42a1a06faea744d|\n|🌜🕺フォロバ必ずします🕺🌛|418cdcb991534b79aa409e29ae959fba|\n|🚹|b1477f2da9494118ab4a66b125e6a429|\n|役者零檬|fdfbc34549cf4cf8b5e788ed6ed199d0|\n|佐藤|c7ebb00081db4afbbe01ce56821b1abf|\n|りお|1598595393bb4c84a95ffdcb455b9c38|\n|夏休みチュウ|7d2a809e586244c7bceb0510e0e56c3a|\n|y|867f2297e84549818e2f471766a0f6b7|\n|yuki|29d94439a30341ca9bfe78e0f7280418|\n|てん|ece56ca67b0b4d3f8b38a31bca1a8a6b|\n|まっつん|577d83c3af9b4059ab616b5cd33a56fb|\n|あーりまん|26860055a9af46d48bcf869816cdfbb7|\n|たらこすぱ|2c0b541522ed42fd9447d63dcb498b97|\n|雲外昇天|4cbd47f6ad0a41a184f0b5eba850fa57|\n|咲樹|86f72dfdcbfc48bd80664523ffc1add4|\n|限界LJK|b98bb9ca37bf430fa4b963f8ddcaecf2|\n|ゆんち|0a968921f1064003a201da9e593cc5d9|\n|ばうばう|f9e9743625fd4bf5b6a627dd2d1e875b|\n|さ|c44aecf51fec4913a2ad4fd7627eb7e4|\n|うぃんた|d14894545cfc4f1d9de9f5eab3f389f0|\n|宅浪の無課金おじさん(ひかる)|9d26e8bd6fd84eb784076c96009d6c8d|\n|なこ|6d6d62f80e63475b998660019c59115e|\n|Rizumi⸝⸝⸝♡|45c59347887440e68f90f177e6efc187|\n|☁|ab2ad85af8ba43af8e16a3162e834fde|\n|浪メル|32323851ef3945b0beed8a9cd8e26e3b|\n|ミズゴ浪|06846cce3b3c456d9999d5f168801a30|\n|ふつか|beb34531cecd4b629471cf80f2db6f8f|\n|🌱|32df5d72bada4aa9bef455d4016282bc|\n|オレオ|f9666c62a78f42a7bcc1c93c3a5bd28d|\n|スシ浪|b224b15582744c17bb9b7d5a91d6f6df|\n|k|93cdeb932b3c4573b0e44f03daaf136b|\n|厳島なお|58f5c98b9d814a8c970a24a5a67c1ccd|\n|ユ|2603498b44ef4c86a67624cdb1c5648b|\n|Momo|581f7b2ce32e468fbed23b9920c9fbb2|\n|🌸神医志望|da0c8c38524b487a84959f0e2c4d4746|\n|yui|a10b87fdec074951895248108ae5b571|\n|怠惰もち|a0a566e3701f491aa3843e88735c90d2|\n|圭亮|1dc0383411244601a3009b69b85f7de1|\n|Y.K.G|b7c122889a994b389e1bcaec2dc57695|\n|帰りたい|f530bbed1acf43948f4a0f31ae698384|\n|りえる|00ad7b8805d2462da6dc932c07bfef44|\n|ひまり|dc3f0bf8f9674344b473a00834caaf24|\n|Яiu 北医志望|35a2479b84834016936af0f94fc47a7c|\n|し|96d1d0f65cee4c40a2e64b75a9c9949d|\n|みつ|abb91aafbec148438e92d329e2a734c8|\n|アミノ酸|f95448b1d72c4e22bbda8abb9816eb56|\n|華夏希|7180f24909d94fe9aba5e403adbcfe6e|\n|天然水|d478cf2ff7964202b941fb28f2909b61|\n|あい|e2d03ab0a79b4b979a623a0bfad9522a|\n|にっしー|75eea5e1795847c0a439013c51e9e3db|\n|ずんだもち|0076ac28f69745f9a547ed144308af48|\n|フリスク|59face61a0a4460cae6d70a2827e8e5f|\n|Haruto|d8a352693ddf4559a72a8c8412564b92|\n|お遍浪🥋|3059758aaf6d490aa09d9ab7f45d0025|\n|朝焼けの花|b3333b06726a4b559698a1cec1c82647|\n|KOKI|bc18d40fe74d41aa8656e10e6d5cb374|\n|なおニキ@ぽじてぃぶ。|feaf1dfa76734310972f5dd945a456b4|\n|𝘀𝘂𝗽𝗶𝗸𝗮.|0af46460485041918732a27402168bc7|\n|S|b03c1461042244c49ed2bdfd68c5d061|\n|あるまじろ|7a3a78b0c7f0499bbd3fbf21d563689b|\n|ねぽ助|2f4d05590012486c97775618f5d227e9|\n|しいな|452a511488cd41748a4ce60ec10d12d0|\n|はなこ|5abb304542ef464b811c14d5a1669d69|\n|りこりこ|7c0895504e9d4ad9a5143048dbb565ac|\n|ちもり|114e9d2261374543b5087ee1b34b49d2|\n|たつき|83cbea5e0c214b068f895f64250fd63a|\n|たかな|5af19663750e45d0bc5dc88ed5ff66a8|\n|りおぴす|05a1348a404b4285bccfc56e2a3b85bc|\n|リョーちん|3d095205c06d4d08a63cab4868f4390b|\n|秋刀魚|54b9551df17e4e3dbbfbe87887e19513|\n|80Tエノモト|424dbeaa2bb84daa875d0cad6a79202f|\n|ねいびー|dcc91079628d4bda8ebc0394c438790a|\n|tt|0c958179e79942bc96e8aeba6d3d5ed8|\n|^_^|054075dcb30f4be38ad4e99e3e537798|\n|カリー|a9f02ff7953c4675939ea855b3da3eb9|\n|こうき|0c5df0f51913442c9eeb451325bfffb2|\n|イト|1ffdc93fa62a485fbe443ca2c475182f|\n|ふくろう|21ebc4b992b742b28121013444bf8a1e|\n|じゃないほうのよっしー|a87a6e1046f44344b9c401a2ee683bac|\n|Stick Bug|49c4b7a2955a42cdb4333a40148e67db|\n|カイ|41dbe5640cc5440ab482fd10dd9c6a6d|\n|はぜ|35c866e83da941e29c785e3cf164e814|\n|ヒガシ|80c28c2d21674e1fa97adf374bd7216d|\n|暇神(ひまじん)|23b04f8760414ea081556d89f6f43c55|\n|檸檬|1a0641fa994349edb60fb4a192b702b4|\n|のび太|884d705c0cdf44e4817dc1d27ede25f6|\n|結果出せよ　イトカズ|edf3381acf40400ea3381bc6eb2dbd1f|\n|人並|75f87713eb264a728a5c17f7632efe29|\n|J|67b293cba9e746a88726289996e41184|\n|くぅ～|fedba00ff2f54ea4b6838dc59c3d57c7|\n|み|542eb1ab142143efb8b91b7ac11c2d10|\n|莉奈🎲🐿|6223b2d6e3c74a6997091dab88b73189|\n|Koyo|df281029184946409f6dd452c1d5898c|\n|***|5585143027b545ceba7a6fc5eb7fbba9|\n|こーちゃんさん|474e58a89349465095777c2fb0313278|\n|秋鮭|b583fb89d9d5468ba15a20a39146c1fb|\n|やむ|4be1991905264965ae3ef8db7c15ac5c|\n|*⑅୨୧⋆✩𝘮𝘪𝘴𝘢𝘬𝘪*⑅୨୧⋆✩|753f4337411b44ab87cc6b96cc8d0d35|\n|kana|98ddac4c7994455e9dc9eaeee3af1de1|\n|ハクバ|b5122a7f34d54306acbab670e18c644a|\n|鳩🕊🍀|488d73855dd6430985b5d1c8fa5d4647|\n|たま|d3157065ac4445889c68d104dbbe4bbe|\n|浪人生(ラフランス)|bfb6835224ec4b58b2fab8bfc1d1fb18|\n|ゆうき|ab169a9dd92b4cee8e73662b14d1b4d9|\n|あすきー|0a599ca55b994371860215ad68ec2517|\n|しめじ|1d6076965179409b9036bc1c4cd2790d|\n|譲歩のツベルクリン|0d2701b235004f7f9e6579741867bf24|\n|ASAKAWAEXPRESS|9749baac9e6a4d20a5ed64725fc300b7|\n|お豆腐|305e59c1076a49b5a33d82e55b480d81|\n|ひー|b195746f9be7492da118e64579f08c6e|\n|めろ|edd58209a8ad4db99c51012806334ce8|\n|美月|489660e3482b4fa8813e9624ca0451c4|\n|♬HAMU🎶🎧|e6441d0dd2bc4055ba922aa1084ebbdb|\n|睡眠luv|d13538185c0248f78da28ad2d0c72a91|\n|苦魔|f848b59313d94d5388ce32af90efadb9|\n|たろう|44b5883aad8b405ea87008414baf73fb|\n|ae.Karina|0b1567bb873a48b983b16ac5594e886f|\n|京大に行きたい浪レン・イロアス|e5e0c1e84526497aa8e62bcc0f6796cd|\n|ᗰᗩᒪᒪOᗯ|85c152800beb4515b71a268ab1b3e7f5|\n|ふく|162512db8ea940859baac35b7a6e7af4|\n|他|203538e4f52f47899f69bf56560ca5fb|\n|デコブレム|5af7bd0cbd6b4542a47d9779e3036dc0|\n|お勉強で下克上🔥|e51abcb8686e4364b9821b72f4be908e|\n|ゆな|7c3010a842604d65afa29343c2e4699f|\n|さとこうさん|1fa6c708d94244d9a0ef7ffc07760057|\n|勇者|47726fbc0fd14e87b950fceed9a66f50|\n|りょー|a88869622559430fa1e8543326290508|\n|ﾓﾔｼ|60f70c6d01954779b9584e1fedab1a67|\n|てるてる|d8134ecc652941269e18fc55fc7ea5c6|\n|キヨ|737f55326e4541f7a69fd5d2c2167118|\n|chihiro|540b84d54fef4ad999c60fe385f777bf|\n|九歳|28556efb1d69498198db3349ae4038f2|\n|Passion根暗|bcdcd2dc766c479fbe2d3560035e8136|\n|なーみ|d8ac269fb2814019b1e9f5552b395cd8|\n|CERATO|4149abfb05cf4815a3816d31e1df69c0|\n|オアシス|746a8b0460374faa8c298b59b31251c1|\n|あや|f45c9bb2d7e94b4c9d05962ea6101b15|\n|Taketak|412f9a8979cb48e7bb7da8a6da1853a7|\n|ゆい|1a129f3485d243bc90565e22d5c0302c|\n|わきわき|6188878fe53042cdb47c4a7d057acfcd|\n|あずきもち|020d8e0986ec41858f404453b48c8b17|\n|KK|bc5ac721ef5847a9a8578f2508bdb84b|\n|要|683e7ba4892049238be1763b57d097fc|\n|かいと|48694d845ee3466eb108a075653f8278|\n|campus|d2ddf3168dfe43a29e2c6c90779b790c|\n|花嫁修業中|df57385cfe934e1da0a74d8b6259334f|\n|タケノコ党過激派|607fdd58e8bd4c159a55522c1b7b7474|\n|タカビャン|a535e833ed9247659ff7405fcf64f2d7|\n|池ピー|9b4a867f9e8c42d2b5f59c826ddf0262|\n|スタープライム|267c71b689b8458c8d3ac620b7f5e736|\n|あいり|f1cf6e1790cd4f7db0cc5fc6b13c9956|\n|こーせ|59266dd61c3f45a69d2bc206a7e6bbc3|\n|ばきちっち|0111e47020f64fde850fdfc9320e6d91|\n|あそ|1fc0c84275ae42eea3f2898bd34b6c0e|\n|努力|62880ac6ba2b469b91355bd53d4e59ad|\n|いう|4cf98971062e40c88a5936bc24c6fb75|\n|みも|7821772afe88410d8757305b2ff6f46c|\n|トト|bc3a381f46f34d56862c4683bed68f4d|\n|stra|62d23ade39594deea2dd62b76bfaae41|\n|sake|dd05a61ba7734bb3be59cdc95a6edcd8|\n|ケンタロウ|47c23c2cef234cf9812748231b912350|\n|WATA|f385f58d4b064426b0a965838aafcfa8|\n|いなもち|e0cccf6863614d4a9d4ac2a3d372e409|\n|mi__im|9f73f0e34fbd4812a7ee3ead9470ef03|\n|ivvi|f30bcf099c26466b9f1d0735743a1795|\n|ryusei|5d2d2b13ba8442baa69e1851c4a58e13|\n|けんU|fffacaaa45184f8ca4ea066e702beb5f|\n|かすたぁどの隣の人|f131ceb1bf994e73880dd59548e4625c|\n|AGOTA|34c9c05e414a44048c9fa64f854d3cec|\n|しみこーん|7f9ff5e58892431b9b68e20f6d5476d9|\n|まさし|92076af6ddf44a2e94eeda9ec2a38649|\n|にれゆ|b13dd65d1279412cbfc64bde8c7a05c4|\n|めい|f7bf3e2913234b6db47e4b6df047835a|\n|漱石|86a22b63c09941949a74a05aea472e95|\n|Nanachi|0bdee45b7e9c4e5e992881cfa95a0f43|\n|矢田|ee03a113157c40308e0b348ae7b374a5|\n|ryouki @14|9f02b2f8fa2248c9970399641f34991f|\n|すはる|6d79216457b24bafb8152a56fa5b37ab|\n|さく|2a736b2856dc49c588199e587aaf5b86|\n|かわちー|f2c1f2990b9e43139d60686398cf2eef|\n|さくたん|a9c62dfbff83481d8ee2502b5541f600|\n|お疲れ様んさ|f4ec44e9b5d94bfbb4364ce280fecf55|\n|早稲田Bot大須賀|bc8afd63f8e544c99df9ab8d07ce3df2|\n|ただの米津好き。|5f01a9b3714a422abef57176e2f1aff6|\n|まぴ|75420f0c387c400b97372df865ffda31|\n|車|9236943e690e4d8984506cf6ba6cfbce|\n|ぽにょ|524992a960704cb681ce1f67f8b05804|\n|りらくたん|eef80b5ead4f47c4b85882bfb71fe1fb|\n|Atukiti|c31475eb4f90409b8a943c005080915d|\n|はるお|f0486654dc34487b828a522f351118ba|\n|Let’s ∮|6f1b7793f316404c9c7ef031fddcf446|\n|えぬじー|aca7e0d29cca4e239060ed458fe57e2e|\n|品田Riots 智之|5354a04e764b474a9293c641382a4d2b|\n|K|75dea8b34fcd4d70bf39790899a5feee|\n|きじい|6232ecb739a9423eae8ee97640c04a3f|\n|海|4f6f7653bef345d48a5fa685523ba54b|\n|だいぶーつ|cf2974f5e6524ce9997a104cab898f02|\n|セイキン|b8561062536244f38d4e2a329d49b797|\n|ぼっち浪|b98b84b493144c2c89628d107fc4115f|\n|鵜飼航丞|0ed0cb5059db47ffb96fceba1debdb4e|\n|花井　める|75677915aecb40adbae750e0f0d88b4c|\n|やどかり|dae1bb9bf93b4cbc96daeb30ff48ea64|\n|コーヒー豆|736bac733efc4bc0a371fb7fdd29bb30|\n|あま|1ae07464c501442099f422f8778a2a7f|\n|みんはや|a8bfadf1c1674150ba34b879b5e9f0c5|\n|sah|3109a203bca043d49042491fb44de81b|\n|凡人浪人生|794dff3657614c6abd26ea58ff18e9cb|\n|kida-taro|8962c8a0b53c4bd0bb9241994be29693|\n|一浪瀬美空(乃木坂bot)|7109d1617b974a60a7648d10403a497e|\n|。|a3bfeb0a03f64e499368af8c2bcca728|\n|みう|aee7686744e8413eaf1e5bcaecaa5dc3|\n|𝕜𝕠𝕜𝕠𝕒（ドMマン）ぐへへへ＃澪來とペア画中⧉|3abfd4b2f0d54c4ea76dc3b03d71def7|\n|K.t.|ee2bf416441842b89321338387d6f44f|\n|ᕦ(ò_óˇ)ᕤ|f3eceeebe7de40ce8e9e8ba2c3f57012|\n|🦙 ̖́-|bd430ff96c504e198a72afc891a48acc|\n|ネコンポタージュ/•᷅‎‎•᷄\\୭|a0a8e304c213480f8cf86c4bf87acf2d|\n|しゅうきち|262acde0a0c446c1916f11a93afffa86|\n|アシタ|d573ed9332a4488c8f14b5585ae54bbd|\n|ここなっつ|bfd5779084474e5e91bb51f219ac8bbe|\n|sara|dd15af26ac674f71a51afd7d4ee28eb2|\n|虎|8fe400b16de2421a99749ae649bb0642|\n|明日を考えぬDr.喜多海|4f65d1c1c5cf45b4aad76fd5344d5500|\n|ブ、ラジャー！バニーガール🐰|b551420c1b7f46548d5044bd26aace14|\n|紗蘭|13d189fe07c34096b6b16e461ed3fe01|\n|ケムナ|3934aaa2383041d9a8c83afa7f57d4c5|\n|🫥ら|2ae023ad6e30463087ab87c9c28f503b|\n|稗田阿礼|af75dace080911e79c8022000aafc085|\n|ロムスカ・パロ・ウル・ラピュタ|d9562c20239d4bca82ab0179be541184|\n|やま|13d8652aef6d412f9120b1062d33b52d|\n|アイオワの玉ねぎ|1c69f270cefa4e248b6ee13c7e7cb125|\n|たどころｹﾞﾛﾘ|0fbd0b031231461a8bdb1a1312927103|\n|つっちー2号機|1001a1a2f574477ba875baeba87e03b3|\n|ヽ(‘ ∇‘ )ノ|291d356de7c9449795abdad70aeeb970|\n|🦛|40afce0fa8e84a469604383c223174dc|\n|イカ|cb20ef620da34a87b112a27e416f38f1|\n|#|f5a7bd0d568c4994bd46f16cbcb81152|\n|陽香|eada322a5ec1472ab1d040c0de17a0e4|\n|ささかま|70adb0a86dc7425bb110b2aa39cbfe85|\n|yooooo|211e355ddb114f67b67ee4a750e6d506|\n|ミライ|5fbb5351e2044db8aacc0a4fc9ac7584|\n|劣等生えるるん|3418978aa0c24f058b5a5540ae1e6045|\n|月|02ae4044c9b44f988e907e5e27215b3b|\n|き|15188bfc4aa34fc0bf0fb505b5a02b23|\n|春菊|d2a3bfe2cec4476b815600f2a30a188c|\n|はる|45a070728716400ebd5fd5ff2f4db167|\n|眼科|7357e7ee5b244a61a621d1691d47bb00|\n|仮面医学部|cf0f8e4f66cd44ff8725573e10e2a14b|\n|粥🦕文系科目深夜に予定立|95d184d690314176840ee0bc1f73f3d4|\n|ロジャーさん|31df2c6de1034627b842b3c13a8a967a|\n|kenties|81699a815a704ba8b62b4e02975cc90c|\n|あたれお|f46c9015f66f4409b87fe801f75027fb|\n|コニー•スプリンガー|6d064f62a04b4bc99756279a805baf0f|\n|あいす|0f85ca48788e4466b8ade05b6cb0b6ec|\n|勉強ロボット🤖💨|802c2ef55a86411093907d1e3c10868f|\n|latte|bb0bd84d52e746319b7f6171aeb55f46|\n|まお|407c4ea2bc834ad9b0471a661f9f5940|\n|ポムポム|0f28573c000045b6bb406f16840bad1c|\n|コ|4660f79b27514e2499625ef392217371|\n|👻|07921581f193483c8d87aecee527c24d|\n|Haruking|aaa596a77f484117b3fefe69de002a99|\n|秀|74fb904a61d54ff392185b188694ac02|\n|R1m7|81f3e3f19e7f4174aede4472791c2322|\n|灑|d3eb8df4a11643ee8b7b34c2eb42649e|\n|Joeker|3ecf996d3492496b9e5bf81ef537e01d|\n|蕎麦粉|406b0a74195b4c98a980db06f0c6a647|\n|あるでんと|b86fb4b685944e0b80b77d26a00da7f0|\n|のび太|648b22d304d0444ab17dc17baa376cc2|\n|Riots|bacd9a22163f4e02aae3a34948d447a2|\n|😿😿|5cc5ddd441274bf1b1e5f6d76f11fb4c|\n|天天まる|be8a7f9f54534a60ae0332e17967f753|\n|しゅんすけ|b4b01c8e74d141149b684738207da568|\n|浪太|951c9db9ff1f4e18a9fd37fa73f5183a|\n|sara|d347f94a4bac4fbeb9bc6119a83fa124|\n|さくられい|e48bba7d51e744609315f9572bf0b0bf|\n|モグラ|af4e6371d460448e9549bfb38c73b054|\n|ノッチ|c15d3ba1d56142a3917a5eaf292fecb1|\n|ε-カプロラクタム|31851eb61a8946b7aef9d59bfd2ad6ce|\n|𝑨𝒊𝒍𝒆𝒔|d8aa6582932c4e50bd5577b0d037c9b4|\n|koki|c5ce6ffa5ec741ca9ca430cc89d40650|\n|うったて|c09b8ae412a6498b96ca603316de3943|\n|🥺|cb05a187c7cc4bd08a973ab5e47b4d57|\n|あ|6e1d84e40290477f96f38d188890754c|\n|𝒽𝒾𝓀𝒶𝓇𝓊|d670303edb8a4c0382f60ada6e988d8f|\n|やうだ。|05a36f1a9a414df687ff18a8248891a8|\n|わろた|6f66d75daca84ddb890fb27662370c92|\n|あいうえお|f05c89dbaaaa4840a4a35500c9804040|\n|メッカ青空教室|a28202e76f9f433a8fb1f93e7e1a02d7|\n|Hono|76287bbcfe9111e79b3506b6245bd510|\n|Can|dbad65df9cb9485c9c08378297a922f5|\n|tan×2|f47608b693f04a97aab49a97f2120b8e|\n|温一|c1a91d9073a2424db13900b4f58aeba2|\n|こんはや|f082a1ebf29d42199081d9ee7bbbd938|\n|こうたろう|565e2140704e4660ad90cc0ba3b67302|\n|落ちこぼれ真希|1941d8d8f3c44832b42f5bb98a9fab40|\n|Sho|58b169a2ab684e64a7aac07fecabdb77|\n|リヴァイ精士長|a8238c72d9f74dbf9a96b51401d446b5|\n|Kanasan|addc324029fd468da698cbee9385265a|\n|⛅|906eb8640c8f40c69263671ab19f9f57|\n|あ|73035e16a1b340ec84b585ee1e06443b|\n|そー|e016393ca33d414197faede84fbe099a|\n|こあらっきょ|cbf4f138090b42dfbe1c76747f80c419|\n|友香|62c4d2c968fa4da7b8cdc4ca4486e850|\n|もりそら|866e2fc6b1a3445abb69e8ffca47c8c6|\n|エロヴィン院長|d10d477b14354aadb04c9db43eb517ea|\n|はやて|926741c5c2474b5c9902296422077fbb|\n|広大❤️‍🔥|5a10fb49825d42eaba39777d52c133f0|\n|なっかー|f1084f22c45e4269b7b234acfcf60858|\n|ぽか|11584c79a32440cca685226f530486db|\n|フクダ|b5ed044099d8406998b29f9d4750383c|\n|柊アオイ|1d62f5f7bd6844ef8ebdaa6f6648fa5d|\n|はらだ|82d55dc528904662a257ac11ff757752|\n|郁|c01c37ea1f984825aa541b21bead4567|\n|のろさん|a8bdc30441b74e6aa47127df372db094|\n|ひら|879f0ad7a6104f739836ded20974d3a6|\n|きゃつ(n=1) 怒りのファイブ|d3b6354f5e5c4a0fb2269d0e20064c17|\n|はるき|e06c381699674df4acd134fe5e2bbebc|\n|糸槖|a8e553f93ee04927964655379930c146|\n|ゆう|0fd9fafe5bf94ae49838ffc3dd4bfc39|\n|🌳🍃|d130889c0bdd4366a8447d247135067b|\n|李徴子|53bf668a80d84a369512214b6efa0821|\n|ユキノ|513e5c70e58d483b9545fa649fd3095a|\n|遥大|c3b80f28d32f4349b0cbb12961d9b302|\n|しげ|31dc755d50eb4f748518390ef7964c0d|\n|K|677d0591d5614d2ebbe6c1bb1dc8042a|\n|サンチマンタニズム|7bf86c488c3a4a71ab1289bcb1235cdb|\n|SontaKun|a4369fe341384101ae78cbfc07c1d4b9|\n|ロースカツ400|6cbe7d5933664aceb055b44c8848006e|\n|ムラヒ|95ebf871dd3441369e544e3f93fa6c46|\n|塩化アンモニウムは食えん|7d8467e9de994dda9bb6ec1824253d6e|\n|極限❕|5e812416d5af4c2fac341ae98e4e64ba|\n|あ|a8ce55558a9641959e06a96a6c6941ea|\n|朝５時起床オトコ👨|ec1477748f4a4ecd8c9e0bd1b864c668|\n|tanahiro|7fd7f43a39fe46eb8efd29be68ad29b8|\n|ひな|4a941423a640482cbe180102edec1085|\n|十口三|9d16d0bef15644a19b10461949934d20|\n|Nao|a2ccb68c48e54a17b941b993bf985684|\n|みこと|12abf229694e48c2b6ffafb54cfc2d61|\n|ちょく|7b88112ba20347c193bfc83289a48623|\n|shuwa|805c0f78454911e8874c06f00d908cf4|\n|😇|6f6f0ed43c6a4863ac0fdf187a436396|\n|Ω|483c500e91c44be8b0bab98f4208f262|\n|うぉぬ|9b3605cd1ac14cbf880c82f461f9b3d2|\n|けんしん|81d604242e434db5a6444f7e9c98211e|\n|Towa|25375ee7cad7428b8f91169dd80a2737|\n|たなか|7614cccdb8d74368b9462303192cd061|\n|キマキィ|f45401a4e47e11e8a6850ac38f84cef0|\n|アドラムネ|2f735c30454547bbbdcbbbd23d8fb850|\n|しーばすお|3871c356beb5428db09e82650d07022c|\n|りお|a62eda2aaacd45ff8c36a7f0061532f9|\n|さとぅ|eaf66a175ab44da1a082bac406038156|\n|Alan Riots|e63e5ed9d8e442d9b9d10c9bfae51f98|\n|りる|e0c75aa888b94cc5a9cc62f5ec3980e5|\n|ハヤソン|98e8a5c6cb7f41888c4dfde04c92432c|\n|れん|d70a1ea5d7124794baea066fcfb4646a|\n|👻👾|69b5dbd11421488584e523e509c03c8c|\n|Daichi|65b5a8d3efd04da2847f65355fadc850|\n|けんめい|03898602604648cea74c1be36bdbb870|\n|034|b726b3a55f65411a9dce5486a4a16b35|\n|ひめ|c5d0e4f9723249d18ac2c69542708c70|\n|シビア西園寺|66e5452dff204d6caa8a16d51e481acc|\n|F.T.|631d72b66d774376bafa2d4b4ac47995|\n|🤩|476d792306d74053805b8b3b288dc71d|\n|き|8be3c2bca4ed4047b438edb91ee534de|\n|UNIQLO|de621b5d4fd6402da2653d55d742e087|\n|宅浪63101浪|5ce1514f4f594788b4ceb37464924d24|\n|63063|3da36ad6c617434881cef7079584749e|\n|VanBlue|db6086fd4f5d464f9915f10cd326019e|\n|岡崎善逸|3eeab509a04c4e188cce17dd4ce65c1d|\n|氵|94d0677f9a1540578abd58ba84040ee7|\n|北海浪大学|ad45f42f601d460aaa074541be2058e8|\n|河合塾東ティモール分校|4586e2a07b544aaea418126a6f727a62|\n|さかあがり|1cbeda7fe9a74d3bb2afcd04c5e33b9f|\n|デビットソンニキ|fe779ff6ca024cf8b38ce05c8fa77b9b|\n|rk|34806f4b222e4c9c96d16596abc7c91a|\n|ドラ|977a99d039964d96bd9be5fc60c8f5c2|\n|誠|b295135a0e04469b9ef20398ef4cce6f|\n|shu|e774e5ed2085444d9355335bdc86658c|\n|ぽむぽむ|c7bc44efa303436c91ef2a105977e0a1|\n|Яelayouter|1300e27ce5274e19998388e4c8da7374|\n|延蔵|930661830bcc446a958864f09e9a7eef|\n|ふぉれすと|c80e5b13d6bc49d8b79f26ef8af8be58|\n|僕はハイタカ|3d1f7c5f0f91469c99a5bab0940bd484|\n|salazar|00943770d9db4a55b6d9ce364770e6c1|\n|Ni|9999b3b3879f4b6f90076cac6edea426|\n|M.M.|17b17d8bc8934923878275064822793e|\n|ぽんぽぽ|8d731649f7dd406280ac6c8401d1cb91|\n"
          },
          "metadata": {}
        }
      ],
      "source": [
        "#@title 自分のフォロワー/フォロー中一覧 {display-mode:\"form\"}\n",
        "モード=\"フォロワー\"#@param [\"フォロワー\",\"フォロー中\"]\n",
        "if モード==\"フォロワー\":\n",
        "  userlist=me.follower()\n",
        "elif モード==\"フォロー中\":\n",
        "  userlist=me.followee()\n",
        "\n",
        "md=\"|名前|id|\\n|--|--|\\n\"\n",
        "for val in userlist:\n",
        "  md+=f\"|{val['nickname']}|{val['username']}|\\n\"\n",
        "display(Markdown(md))"
      ]
    },
    {
      "cell_type": "code",
      "execution_count": null,
      "metadata": {
        "id": "4Rqs-EX8_ByX"
      },
      "outputs": [],
      "source": [
        "#@title 知り合いの知り合い一覧 {display-mode:\"form\"}\n",
        "取得する人=\"フォロー中\"#@param [\"フォロワー\",\"フォロー中\"]\n",
        "ユーザー名=\"元頁弓長るニｼ良礻ｷ\\t\"#@param {type:\"string\"}\n",
        "モード=\"フォロワー\"#@param [\"フォロワー\",\"フォロー中\"]\n",
        "\n",
        "if 取得する人==\"フォロワー\":\n",
        "  user=next(filter(lambda x:x[\"nickname\"]==ユーザー名,me.follower()),None)\n",
        "elif 取得する人==\"フォロー中\":\n",
        "  user=next(filter(lambda x:x[\"nickname\"]==ユーザー名,me.followee()),None)\n",
        "print(f'{取得する人}の{ユーザー名} さんの{モード}一覧:')\n",
        "if モード==\"フォロワー\":\n",
        "  userlist=IStudyPlusUser(user).follower()\n",
        "elif モード==\"フォロー中\":\n",
        "  userlist=IStudyPlusUser(user).followee()\n",
        "\n",
        "md=\"|名前|id|\\n|--|--|\\n\"\n",
        "for val in userlist:\n",
        "  md+=f\"|{val['nickname']}|{val['username']}|\\n\"\n",
        "display(Markdown(md))"
      ]
    },
    {
      "cell_type": "code",
      "execution_count": null,
      "metadata": {
        "id": "Y64cCatqDY5Q"
      },
      "outputs": [],
      "source": [
        "#@title ユーザーidから情報を取得 {display-mode:\"form\"}\n",
        "username=\"e334060885a8483996b2025a78d4b77c\"#@param {type:\"string\"}\n",
        "user=IStudyPlusUser(requests.get(\"https://api.studyplus.jp/2/users/\"+username).json())\n",
        "print(user.data[\"nickname\"]+\"さんの情報:\")\n",
        "pprint.pprint(user.data)"
      ]
    },
    {
      "cell_type": "code",
      "execution_count": null,
      "metadata": {
        "colab": {
          "background_save": true
        },
        "id": "MVQRoZa8GTNj",
        "outputId": "7cba20d8-7f55-477a-96a7-cdbb727b89b1"
      },
      "outputs": [
        {
          "ename": "KeyError",
          "evalue": "'next'",
          "output_type": "error",
          "traceback": [
            "\u001b[0;31m---------------------------------------------------------------------------\u001b[0m",
            "\u001b[0;31mKeyError\u001b[0m                                  Traceback (most recent call last)",
            "\u001b[0;32m<ipython-input-17-d5148e0eb4e8>\u001b[0m in \u001b[0;36m<cell line: 14>\u001b[0;34m()\u001b[0m\n\u001b[1;32m     30\u001b[0m  \u001b[0;32mif\u001b[0m \u001b[0mcount\u001b[0m\u001b[0;34m==\u001b[0m\u001b[0mlen\u001b[0m\u001b[0;34m(\u001b[0m\u001b[0mjson\u001b[0m\u001b[0;34m[\u001b[0m\u001b[0;34m\"feeds\"\u001b[0m\u001b[0;34m]\u001b[0m\u001b[0;34m)\u001b[0m \u001b[0;32mand\u001b[0m \u001b[0mi\u001b[0m\u001b[0;34m>\u001b[0m\u001b[0;36m100\u001b[0m\u001b[0;34m:\u001b[0m\u001b[0;34m\u001b[0m\u001b[0;34m\u001b[0m\u001b[0m\n\u001b[1;32m     31\u001b[0m    \u001b[0;32mbreak\u001b[0m\u001b[0;34m\u001b[0m\u001b[0;34m\u001b[0m\u001b[0m\n\u001b[0;32m---> 32\u001b[0;31m  \u001b[0mjson\u001b[0m\u001b[0;34m=\u001b[0m\u001b[0mrequests\u001b[0m\u001b[0;34m.\u001b[0m\u001b[0mget\u001b[0m\u001b[0;34m(\u001b[0m\u001b[0;34m\"https://api.studyplus.jp/2/timeline_feeds/user/\"\u001b[0m\u001b[0;34m+\u001b[0m\u001b[0muser\u001b[0m\u001b[0;34m[\u001b[0m\u001b[0;34m\"username\"\u001b[0m\u001b[0;34m]\u001b[0m\u001b[0;34m+\u001b[0m\u001b[0;34m\"?until=\"\u001b[0m\u001b[0;34m+\u001b[0m\u001b[0mjson\u001b[0m\u001b[0;34m[\u001b[0m\u001b[0;34m\"next\"\u001b[0m\u001b[0;34m]\u001b[0m\u001b[0;34m,\u001b[0m\u001b[0mcookies\u001b[0m\u001b[0;34m=\u001b[0m\u001b[0msp\u001b[0m\u001b[0;34m.\u001b[0m\u001b[0mcookies\u001b[0m\u001b[0;34m,\u001b[0m\u001b[0mheaders\u001b[0m\u001b[0;34m=\u001b[0m\u001b[0msp\u001b[0m\u001b[0;34m.\u001b[0m\u001b[0mheaders\u001b[0m\u001b[0;34m)\u001b[0m\u001b[0;34m.\u001b[0m\u001b[0mjson\u001b[0m\u001b[0;34m(\u001b[0m\u001b[0;34m)\u001b[0m\u001b[0;34m\u001b[0m\u001b[0;34m\u001b[0m\u001b[0m\n\u001b[0m",
            "\u001b[0;31mKeyError\u001b[0m: 'next'"
          ]
        }
      ],
      "source": [
        " # @title zennkome\n",
        "検索元=\"\\u30D5\\u30A9\\u30ED\\u30EF\\u30FC\"#@param [\"フォロワー\",\"フォロー中\",\"id指定\"]\n",
        "名前またはid=\"誠\"#@param {type:\"string\"}\n",
        "メッセージ=\"jjj\"#@param {type:\"string\"}\n",
        "if 検索元==\"フォロワー\":\n",
        "  user=next(filter(lambda x:x[\"nickname\"]==名前またはid or x[\"username\"]==名前またはid,me.follower()),None)\n",
        "  json=requests.get(\"https://api.studyplus.jp/2/timeline_feeds/user/\"+user[\"username\"],cookies=sp.cookies,headers=sp.headers).json()\n",
        "elif 検索元==\"フォロー中\":\n",
        "  user=next(filter(lambda x:x[\"nickname\"]==名前またはid or x[\"username\"]==名前またはid,me.followee()),None)\n",
        "  json=requests.get(\"https://api.studyplus.jp/2/timeline_feeds/user/\"+user[\"username\"],cookies=sp.cookies,headers=sp.headers).json()\n",
        "else:\n",
        "  json=requests.get(\"https://api.studyplus.jp/2/timeline_feeds/user/\"+名前またはid,cookies=sp.cookies,headers=sp.headers).json()\n",
        "\n",
        "for i in range(0,2000):\n",
        "  count=0\n",
        "  for record in json[\"feeds\"]:\n",
        "    try:\n",
        "      record.pop(\"feed_type\")\n",
        "      body=list(record.values())[0]\n",
        "      if body[\"if_you_like\"]:\n",
        "        count+=1\n",
        "        continue\n",
        "        data={\n",
        "              \"post_token\": \"sp.create_token()\",\n",
        "              \"comment\": \"ua\"\n",
        "        }\n",
        "      requests.post(\"https://api.studyplus.jp/2/timeline_events/\"+str(body[\"event_id\"])+\"/comments/\",data=json.dumps(data),cookies=sp.cookies,headers=sp.headers).json()\n",
        "    except:\n",
        "      continue\n",
        "  if count==len(json[\"feeds\"]) and i>100:\n",
        "    break\n",
        "  json=requests.get(\"https://api.studyplus.jp/2/timeline_feeds/user/\"+user[\"username\"]+\"?until=\"+json[\"next\"],cookies=sp.cookies,headers=sp.headers).json()"
      ]
    }
  ],
  "metadata": {
    "colab": {
      "provenance": [],
      "toc_visible": true,
      "include_colab_link": true
    },
    "kernelspec": {
      "display_name": "Python 3",
      "name": "python3"
    },
    "language_info": {
      "name": "python"
    }
  },
  "nbformat": 4,
  "nbformat_minor": 0
}